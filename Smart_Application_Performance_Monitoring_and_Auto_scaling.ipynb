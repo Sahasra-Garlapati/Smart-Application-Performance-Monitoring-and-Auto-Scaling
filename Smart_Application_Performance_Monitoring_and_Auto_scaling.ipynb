{
 "cells": [
  {
   "cell_type": "code",
   "execution_count": 8,
   "metadata": {},
   "outputs": [
    {
     "name": "stdout",
     "output_type": "stream",
     "text": [
      "Requirement already satisfied: prophet in c:\\users\\dell\\anaconda3\\lib\\site-packages (1.1.7)\n",
      "Requirement already satisfied: cmdstanpy>=1.0.4 in c:\\users\\dell\\anaconda3\\lib\\site-packages (from prophet) (1.2.5)\n",
      "Requirement already satisfied: numpy>=1.15.4 in c:\\users\\dell\\anaconda3\\lib\\site-packages (from prophet) (1.26.4)\n",
      "Requirement already satisfied: matplotlib>=2.0.0 in c:\\users\\dell\\anaconda3\\lib\\site-packages (from prophet) (3.8.0)\n",
      "Requirement already satisfied: pandas>=1.0.4 in c:\\users\\dell\\anaconda3\\lib\\site-packages (from prophet) (2.1.4)\n",
      "Requirement already satisfied: holidays<1,>=0.25 in c:\\users\\dell\\anaconda3\\lib\\site-packages (from prophet) (0.76)\n",
      "Requirement already satisfied: tqdm>=4.36.1 in c:\\users\\dell\\anaconda3\\lib\\site-packages (from prophet) (4.65.0)\n",
      "Requirement already satisfied: importlib_resources in c:\\users\\dell\\anaconda3\\lib\\site-packages (from prophet) (6.5.2)\n",
      "Requirement already satisfied: stanio<2.0.0,>=0.4.0 in c:\\users\\dell\\anaconda3\\lib\\site-packages (from cmdstanpy>=1.0.4->prophet) (0.5.1)\n",
      "Requirement already satisfied: python-dateutil in c:\\users\\dell\\anaconda3\\lib\\site-packages (from holidays<1,>=0.25->prophet) (2.8.2)\n",
      "Requirement already satisfied: contourpy>=1.0.1 in c:\\users\\dell\\anaconda3\\lib\\site-packages (from matplotlib>=2.0.0->prophet) (1.2.0)\n",
      "Requirement already satisfied: cycler>=0.10 in c:\\users\\dell\\anaconda3\\lib\\site-packages (from matplotlib>=2.0.0->prophet) (0.11.0)\n",
      "Requirement already satisfied: fonttools>=4.22.0 in c:\\users\\dell\\anaconda3\\lib\\site-packages (from matplotlib>=2.0.0->prophet) (4.25.0)\n",
      "Requirement already satisfied: kiwisolver>=1.0.1 in c:\\users\\dell\\anaconda3\\lib\\site-packages (from matplotlib>=2.0.0->prophet) (1.4.4)\n",
      "Requirement already satisfied: packaging>=20.0 in c:\\users\\dell\\anaconda3\\lib\\site-packages (from matplotlib>=2.0.0->prophet) (23.1)\n",
      "Requirement already satisfied: pillow>=6.2.0 in c:\\users\\dell\\anaconda3\\lib\\site-packages (from matplotlib>=2.0.0->prophet) (10.2.0)\n",
      "Requirement already satisfied: pyparsing>=2.3.1 in c:\\users\\dell\\anaconda3\\lib\\site-packages (from matplotlib>=2.0.0->prophet) (3.0.9)\n",
      "Requirement already satisfied: pytz>=2020.1 in c:\\users\\dell\\anaconda3\\lib\\site-packages (from pandas>=1.0.4->prophet) (2023.3.post1)\n",
      "Requirement already satisfied: tzdata>=2022.1 in c:\\users\\dell\\anaconda3\\lib\\site-packages (from pandas>=1.0.4->prophet) (2023.3)\n",
      "Requirement already satisfied: colorama in c:\\users\\dell\\anaconda3\\lib\\site-packages (from tqdm>=4.36.1->prophet) (0.4.6)\n",
      "Requirement already satisfied: six>=1.5 in c:\\users\\dell\\anaconda3\\lib\\site-packages (from python-dateutil->holidays<1,>=0.25->prophet) (1.16.0)\n",
      "Note: you may need to restart the kernel to use updated packages.\n"
     ]
    }
   ],
   "source": [
    "%pip install prophet"
   ]
  },
  {
   "cell_type": "code",
   "execution_count": 1,
   "metadata": {},
   "outputs": [],
   "source": [
    "import pandas as pd\n",
    "\n",
    "def load_borg_trace_data(filepath):\n",
    "    try:\n",
    "        borg_df = pd.read_csv(filepath)\n",
    "    except Exception as err:\n",
    "        print(\"Error loading Borg trace file:\", err)\n",
    "        return None\n",
    "\n",
    "    print(\"📊 Columns:\", list(borg_df.columns))\n",
    "\n",
    "    borg_df = borg_df.dropna(subset=['start_time', 'average_usage'])\n",
    "    borg_df['start_time'] = pd.to_numeric(borg_df['start_time'], errors='coerce')\n",
    "    borg_df = borg_df.dropna(subset=['start_time'])\n",
    "    borg_df['start_time'] = pd.to_datetime(borg_df['start_time'], unit='ns', errors='coerce')\n",
    "    borg_df = borg_df.dropna(subset=['start_time'])\n",
    "    borg_df = borg_df.sort_values(by='start_time')\n",
    "    borg_df.set_index('start_time', inplace=True)\n",
    "\n",
    "    hourly_cpu_usage = borg_df['average_usage'].resample('h').mean().reset_index()\n",
    "\n",
    "    print(\"✅ Preview of processed hourly CPU usage:\")\n",
    "    print(hourly_cpu_usage.head())\n",
    "\n",
    "    return hourly_cpu_usage\n",
    "\n"
   ]
  },
  {
   "cell_type": "code",
   "execution_count": 2,
   "metadata": {},
   "outputs": [],
   "source": [
    "from prophet import Prophet\n",
    "import matplotlib.pyplot as plt\n",
    "\n",
    "def forecast_cpu_usage(filepath, periods=24):\n",
    "    df = load_borg_trace_data(filepath)\n",
    "\n",
    "    if df is None or df.empty:\n",
    "        print(\"No data available for forecasting.\")\n",
    "        return None\n",
    "\n",
    "    df = df.rename(columns={'start_time': 'ds', 'average_usage': 'y'})\n",
    "\n",
    "    model = Prophet()\n",
    "    model.fit(df)\n",
    "\n",
    "    future = model.make_future_dataframe(periods=periods, freq='h')\n",
    "    forecast = model.predict(future)\n",
    "\n",
    "    model.plot(forecast)\n",
    "    plt.title(\"Forecasted CPU Usage for Next 24 Hours\")\n",
    "    plt.xlabel(\"Time\")\n",
    "    plt.ylabel(\"CPU Usage\")\n",
    "    plt.grid(True)\n",
    "    plt.tight_layout()\n",
    "    plt.show()\n",
    "\n",
    "    return forecast\n"
   ]
  },
  {
   "cell_type": "code",
   "execution_count": 11,
   "metadata": {},
   "outputs": [],
   "source": [
    "def decide_resource_scaling(cpu_forecast_df, high_thresh=0.7, low_thresh=0.3):\n",
    "    scaling_plan = []\n",
    "\n",
    "    for _, row in cpu_forecast_df.iterrows():\n",
    "        predicted_cpu = row['yhat']\n",
    "        timestamp = row['ds']\n",
    "\n",
    "        if predicted_cpu > high_thresh:\n",
    "            action = \"Scale UP\"\n",
    "        elif predicted_cpu < low_thresh:\n",
    "            action = \"Scale DOWN\"\n",
    "        else:\n",
    "            action = \"Maintain\"\n",
    "\n",
    "        scaling_plan.append((timestamp, action))\n",
    "\n",
    "    return scaling_plan\n",
    "\n",
    "def show_scaling_plan(plan):\n",
    "    print(\"\\n🧠 Scaling Recommendations (Next 24 Hours):\")\n",
    "    for ts, decision in plan:\n",
    "        print(f\"{ts.strftime('%Y-%m-%d %H:%M')} → {decision}\")\n"
   ]
  },
  {
   "cell_type": "code",
   "execution_count": 12,
   "metadata": {},
   "outputs": [],
   "source": [
    "def execute_scaling_plan(plan):\n",
    "    print(\"\\n⚙️ Simulating Scaling Execution:\")\n",
    "    for ts, action in plan:\n",
    "        print(f\"🛠️  [{ts.strftime('%Y-%m-%d %H:%M')}] → Action: {action}\")\n"
   ]
  },
  {
   "cell_type": "code",
   "execution_count": null,
   "metadata": {},
   "outputs": [
    {
     "name": "stdout",
     "output_type": "stream",
     "text": [
      "🚀 Smart Auto-Scaler System Starting...\n",
      "📊 Columns: ['Unnamed: 0', 'time', 'instance_events_type', 'collection_id', 'scheduling_class', 'collection_type', 'priority', 'alloc_collection_id', 'instance_index', 'machine_id', 'resource_request', 'constraint', 'collections_events_type', 'user', 'collection_name', 'collection_logical_name', 'start_after_collection_ids', 'vertical_scaling', 'scheduler', 'start_time', 'end_time', 'average_usage', 'maximum_usage', 'random_sample_usage', 'assigned_memory', 'page_cache_memory', 'cycles_per_instruction', 'memory_accesses_per_instruction', 'sample_rate', 'cpu_usage_distribution', 'tail_cpu_usage_distribution', 'cluster', 'event', 'failed']\n"
     ]
    }
   ],
   "source": [
    "print(\"🚀 Smart Auto-Scaler System Starting...\")\n",
    "\n",
    "file_path = r\"C:\\Users\\dell\\OneDrive\\Desktop\\smart_autoscaler\\borg_traces_data.csv\"\n",
    "\n",
    "data = load_borg_trace_data(file_path)\n",
    "\n",
    "if data is not None:\n",
    "    forecast = forecast_cpu_usage(file_path, periods=24)\n",
    "\n",
    "    if forecast is not None:\n",
    "        print(\"\\n📈 Forecast sample:\")\n",
    "        print(forecast[['ds', 'yhat']].tail())\n",
    "\n",
    "        scaling_plan = decide_resource_scaling(forecast)\n",
    "        show_scaling_plan(scaling_plan)\n",
    "        execute_scaling_plan(scaling_plan)\n",
    "    else:\n",
    "        print(\"❌ Forecasting failed.\")\n",
    "else:\n",
    "    print(\"❌ Failed to load data.\")\n"
   ]
  }
 ],
 "metadata": {
  "kernelspec": {
   "display_name": "base",
   "language": "python",
   "name": "python3"
  },
  "language_info": {
   "codemirror_mode": {
    "name": "ipython",
    "version": 3
   },
   "file_extension": ".py",
   "mimetype": "text/x-python",
   "name": "python",
   "nbconvert_exporter": "python",
   "pygments_lexer": "ipython3",
   "version": "3.11.7"
  }
 },
 "nbformat": 4,
 "nbformat_minor": 2
}
